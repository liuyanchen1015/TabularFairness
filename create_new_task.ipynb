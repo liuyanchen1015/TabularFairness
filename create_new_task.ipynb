{
 "cells": [
  {
   "cell_type": "markdown",
   "metadata": {},
   "source": [
    "# COMPAS: sex race age_cat"
   ]
  },
  {
   "cell_type": "markdown",
   "metadata": {},
   "source": [
    "## Load Dataset and Data Analysis"
   ]
  },
  {
   "cell_type": "code",
   "execution_count": 33,
   "metadata": {},
   "outputs": [],
   "source": [
    "import numpy as np\n",
    "import pandas as pd\n",
    "import fairlens as fl\n",
    "import matplotlib.pyplot as plt\n",
    "\n",
    "# Load in the 2 year COMPAS Recidivism dataset\n",
    "df = pd.read_csv(\"https://raw.githubusercontent.com/propublica/compas-analysis/master/compas-scores-two-years.csv\")"
   ]
  },
  {
   "cell_type": "code",
   "execution_count": 34,
   "metadata": {},
   "outputs": [],
   "source": [
    "df = df[(df[\"days_b_screening_arrest\"] <= 30)\n",
    "        & (df[\"days_b_screening_arrest\"] >= -30)\n",
    "        & (df[\"is_recid\"] != -1)\n",
    "        & (df[\"c_charge_degree\"] != 'O')\n",
    "        & (df[\"score_text\"] != 'N/A')].reset_index(drop=True)"
   ]
  },
  {
   "cell_type": "code",
   "execution_count": 35,
   "metadata": {},
   "outputs": [
    {
     "name": "stdout",
     "output_type": "stream",
     "text": [
      "{'sex': 'Gender', 'dob': 'Age', 'age': 'Age', 'race': 'Ethnicity'}\n",
      "dict_keys(['sex', 'dob', 'age', 'race'])\n"
     ]
    }
   ],
   "source": [
    "# Detect sensitive attributes\n",
    "sensitive_attributes = fl.sensitive.detect_names_df(df, deep_search=True)\n",
    "print(sensitive_attributes)\n",
    "print(sensitive_attributes.keys())"
   ]
  },
  {
   "cell_type": "code",
   "execution_count": 36,
   "metadata": {},
   "outputs": [
    {
     "data": {
      "image/png": "[encoded data removed]",
      "text/plain": [
       "<Figure size 640x480 with 1 Axes>"
      ]
     },
     "metadata": {},
     "output_type": "display_data"
    }
   ],
   "source": [
    "group1 = {\"race\": [\"African-American\"]}\n",
    "group2 = df[\"race\"] != \"African-American\"\n",
    "\n",
    "plt.rcParams['font.family'] = 'sans-serif'\n",
    "fl.plot.distr_plot(df, \"decile_score\", [group1, group2])\n",
    "plt.legend([\"African-American\", \"Rest of Population\"])\n",
    "plt.show()"
   ]
  },
  {
   "cell_type": "markdown",
   "metadata": {},
   "source": [
    "## Prepare and Create the Task"
   ]
  },
  {
   "cell_type": "code",
   "execution_count": 37,
   "metadata": {},
   "outputs": [
    {
     "data": {
      "text/html": [
       "<div>\n",
       "<style scoped>\n",
       "    .dataframe tbody tr th:only-of-type {\n",
       "        vertical-align: middle;\n",
       "    }\n",
       "\n",
       "    .dataframe tbody tr th {\n",
       "        vertical-align: top;\n",
       "    }\n",
       "\n",
       "    .dataframe thead th {\n",
       "        text-align: right;\n",
       "    }\n",
       "</style>\n",
       "<table border=\"1\" class=\"dataframe\">\n",
       "  <thead>\n",
       "    <tr style=\"text-align: right;\">\n",
       "      <th></th>\n",
       "      <th>sex</th>\n",
       "      <th>race</th>\n",
       "      <th>age_cat</th>\n",
       "      <th>c_charge_degree</th>\n",
       "      <th>priors_count</th>\n",
       "      <th>risk</th>\n",
       "      <th>two_year_recid</th>\n",
       "    </tr>\n",
       "  </thead>\n",
       "  <tbody>\n",
       "    <tr>\n",
       "      <th>0</th>\n",
       "      <td>Male</td>\n",
       "      <td>Not African-American</td>\n",
       "      <td>Greater than 45</td>\n",
       "      <td>F</td>\n",
       "      <td>0</td>\n",
       "      <td>Low</td>\n",
       "      <td>Did Not Reoffend</td>\n",
       "    </tr>\n",
       "    <tr>\n",
       "      <th>1</th>\n",
       "      <td>Male</td>\n",
       "      <td>African-American</td>\n",
       "      <td>25 - 45</td>\n",
       "      <td>F</td>\n",
       "      <td>0</td>\n",
       "      <td>Low</td>\n",
       "      <td>Reoffended</td>\n",
       "    </tr>\n",
       "    <tr>\n",
       "      <th>2</th>\n",
       "      <td>Male</td>\n",
       "      <td>African-American</td>\n",
       "      <td>Less than 25</td>\n",
       "      <td>F</td>\n",
       "      <td>4</td>\n",
       "      <td>Low</td>\n",
       "      <td>Reoffended</td>\n",
       "    </tr>\n",
       "    <tr>\n",
       "      <th>3</th>\n",
       "      <td>Male</td>\n",
       "      <td>Not African-American</td>\n",
       "      <td>25 - 45</td>\n",
       "      <td>M</td>\n",
       "      <td>0</td>\n",
       "      <td>Low</td>\n",
       "      <td>Did Not Reoffend</td>\n",
       "    </tr>\n",
       "    <tr>\n",
       "      <th>4</th>\n",
       "      <td>Male</td>\n",
       "      <td>Not African-American</td>\n",
       "      <td>25 - 45</td>\n",
       "      <td>F</td>\n",
       "      <td>14</td>\n",
       "      <td>Medium</td>\n",
       "      <td>Reoffended</td>\n",
       "    </tr>\n",
       "    <tr>\n",
       "      <th>...</th>\n",
       "      <td>...</td>\n",
       "      <td>...</td>\n",
       "      <td>...</td>\n",
       "      <td>...</td>\n",
       "      <td>...</td>\n",
       "      <td>...</td>\n",
       "      <td>...</td>\n",
       "    </tr>\n",
       "    <tr>\n",
       "      <th>6167</th>\n",
       "      <td>Male</td>\n",
       "      <td>African-American</td>\n",
       "      <td>Less than 25</td>\n",
       "      <td>F</td>\n",
       "      <td>0</td>\n",
       "      <td>Medium</td>\n",
       "      <td>Did Not Reoffend</td>\n",
       "    </tr>\n",
       "    <tr>\n",
       "      <th>6168</th>\n",
       "      <td>Male</td>\n",
       "      <td>African-American</td>\n",
       "      <td>Less than 25</td>\n",
       "      <td>F</td>\n",
       "      <td>0</td>\n",
       "      <td>Low</td>\n",
       "      <td>Did Not Reoffend</td>\n",
       "    </tr>\n",
       "    <tr>\n",
       "      <th>6169</th>\n",
       "      <td>Male</td>\n",
       "      <td>Not African-American</td>\n",
       "      <td>Greater than 45</td>\n",
       "      <td>F</td>\n",
       "      <td>0</td>\n",
       "      <td>Low</td>\n",
       "      <td>Did Not Reoffend</td>\n",
       "    </tr>\n",
       "    <tr>\n",
       "      <th>6170</th>\n",
       "      <td>Female</td>\n",
       "      <td>African-American</td>\n",
       "      <td>25 - 45</td>\n",
       "      <td>M</td>\n",
       "      <td>3</td>\n",
       "      <td>Low</td>\n",
       "      <td>Did Not Reoffend</td>\n",
       "    </tr>\n",
       "    <tr>\n",
       "      <th>6171</th>\n",
       "      <td>Female</td>\n",
       "      <td>Not African-American</td>\n",
       "      <td>Less than 25</td>\n",
       "      <td>F</td>\n",
       "      <td>2</td>\n",
       "      <td>Low</td>\n",
       "      <td>Reoffended</td>\n",
       "    </tr>\n",
       "  </tbody>\n",
       "</table>\n",
       "<p>6172 rows × 7 columns</p>\n",
       "</div>"
      ],
      "text/plain": [
       "         sex                  race          age_cat c_charge_degree   \n",
       "0       Male  Not African-American  Greater than 45               F  \\\n",
       "1       Male      African-American          25 - 45               F   \n",
       "2       Male      African-American     Less than 25               F   \n",
       "3       Male  Not African-American          25 - 45               M   \n",
       "4       Male  Not African-American          25 - 45               F   \n",
       "...      ...                   ...              ...             ...   \n",
       "6167    Male      African-American     Less than 25               F   \n",
       "6168    Male      African-American     Less than 25               F   \n",
       "6169    Male  Not African-American  Greater than 45               F   \n",
       "6170  Female      African-American          25 - 45               M   \n",
       "6171  Female  Not African-American     Less than 25               F   \n",
       "\n",
       "      priors_count    risk    two_year_recid  \n",
       "0                0     Low  Did Not Reoffend  \n",
       "1                0     Low        Reoffended  \n",
       "2                4     Low        Reoffended  \n",
       "3                0     Low  Did Not Reoffend  \n",
       "4               14  Medium        Reoffended  \n",
       "...            ...     ...               ...  \n",
       "6167             0  Medium  Did Not Reoffend  \n",
       "6168             0     Low  Did Not Reoffend  \n",
       "6169             0     Low  Did Not Reoffend  \n",
       "6170             3     Low  Did Not Reoffend  \n",
       "6171             2     Low        Reoffended  \n",
       "\n",
       "[6172 rows x 7 columns]"
      ]
     },
     "execution_count": 37,
     "metadata": {},
     "output_type": "execute_result"
    }
   ],
   "source": [
    "from sklearn.model_selection import train_test_split\n",
    "\n",
    "# Select the features to use\n",
    "df = df[[\"sex\", \"race\", \"age_cat\", \"c_charge_degree\", \"priors_count\", \"score_text\", \"two_year_recid\"]]\n",
    "df.rename(columns={\"score_text\": \"risk\"}, inplace=True)\n",
    "\n",
    "#! convert two_year_recid into categorical\n",
    "df[\"two_year_recid\"] = df[\"two_year_recid\"].apply(lambda x: \"Reoffended\" if x == 1 else \"Did Not Reoffend\")\n",
    "#!\n",
    "\n",
    "#! race: African-American and Non-African-American\n",
    "df['race'] = df['race'].apply(lambda x: 'African-American' if x == 'African-American' else 'Not African-American')\n",
    "#!\n",
    "\n",
    "df"
   ]
  },
  {
   "cell_type": "code",
   "execution_count": 38,
   "metadata": {},
   "outputs": [],
   "source": [
    "names_of_categorical_columns = [\"sex\", \"race\", \"age_cat\", \"c_charge_degree\", \"risk\"]\n",
    "\n",
    "# Splitting data into features (X) and target (y)\n",
    "X = df.drop(columns=['two_year_recid'])\n",
    "y = df['two_year_recid']\n",
    "\n",
    "# Split the data into train and validation sets (80:20)\n",
    "train_x, val_x, train_y, val_y = train_test_split(X, y, test_size=0.2, random_state=42)"
   ]
  },
  {
   "cell_type": "code",
   "execution_count": null,
   "metadata": {},
   "outputs": [],
   "source": [
    "from Tablet import create\n",
    "\n",
    "header_description = \"Predict whether an individual will recidivate within two years based on demographic and criminal history.\"\n",
    "nl_instruction = \"Given features like gender, race, age category, charge degree, prior count, and crime risk level, predict whether an individual will recidivate within two years.\"\n",
    "\n",
    "create.create_task(train_x,\n",
    "                   val_x,\n",
    "                   train_y,\n",
    "                   val_y,\n",
    "                   name=\"COMPAS\",\n",
    "                   header=header_description,\n",
    "                   nl_instruction=nl_instruction,\n",
    "                   categorical_columns=names_of_categorical_columns,\n",
    "                   num=0,\n",
    "                   num_gpt3_revisions=10,\n",
    "                   openai_key_path=\"./openai_key.txt\",\n",
    "                   save_loc=\"../data/benchmark\"\n",
    "                   )"
   ]
  },
  {
   "cell_type": "markdown",
   "metadata": {},
   "source": [
    "# German Credit: Age Sex"
   ]
  },
  {
   "cell_type": "code",
   "execution_count": null,
   "metadata": {},
   "outputs": [],
   "source": [
    "import numpy as np\n",
    "import pandas as pd\n",
    "import fairlens as fl\n",
    "import matplotlib.pyplot as plt\n",
    "\n",
    "df = pd.read_csv(\"../data/german_credit_data.csv\")\n",
    "df.drop(columns=[\"Unnamed: 0\"], inplace=True)\n",
    "df = df.dropna()\n",
    "df"
   ]
  },
  {
   "cell_type": "code",
   "execution_count": 31,
   "metadata": {},
   "outputs": [
    {
     "data": {
      "text/html": [
       "<div>\n",
       "<style scoped>\n",
       "    .dataframe tbody tr th:only-of-type {\n",
       "        vertical-align: middle;\n",
       "    }\n",
       "\n",
       "    .dataframe tbody tr th {\n",
       "        vertical-align: top;\n",
       "    }\n",
       "\n",
       "    .dataframe thead th {\n",
       "        text-align: right;\n",
       "    }\n",
       "</style>\n",
       "<table border=\"1\" class=\"dataframe\">\n",
       "  <thead>\n",
       "    <tr style=\"text-align: right;\">\n",
       "      <th></th>\n",
       "      <th>Age</th>\n",
       "      <th>Sex</th>\n",
       "      <th>Job</th>\n",
       "      <th>Housing</th>\n",
       "      <th>Saving accounts</th>\n",
       "      <th>Checking account</th>\n",
       "      <th>Credit amount</th>\n",
       "      <th>Duration</th>\n",
       "      <th>Purpose</th>\n",
       "      <th>Risk</th>\n",
       "    </tr>\n",
       "  </thead>\n",
       "  <tbody>\n",
       "    <tr>\n",
       "      <th>1</th>\n",
       "      <td>Less than 25</td>\n",
       "      <td>female</td>\n",
       "      <td>skilled</td>\n",
       "      <td>own</td>\n",
       "      <td>little</td>\n",
       "      <td>moderate</td>\n",
       "      <td>5951</td>\n",
       "      <td>48</td>\n",
       "      <td>radio/TV</td>\n",
       "      <td>bad</td>\n",
       "    </tr>\n",
       "    <tr>\n",
       "      <th>3</th>\n",
       "      <td>25 - 45</td>\n",
       "      <td>male</td>\n",
       "      <td>skilled</td>\n",
       "      <td>free</td>\n",
       "      <td>little</td>\n",
       "      <td>little</td>\n",
       "      <td>7882</td>\n",
       "      <td>42</td>\n",
       "      <td>furniture/equipment</td>\n",
       "      <td>good</td>\n",
       "    </tr>\n",
       "    <tr>\n",
       "      <th>4</th>\n",
       "      <td>Greater than 45</td>\n",
       "      <td>male</td>\n",
       "      <td>skilled</td>\n",
       "      <td>free</td>\n",
       "      <td>little</td>\n",
       "      <td>little</td>\n",
       "      <td>4870</td>\n",
       "      <td>24</td>\n",
       "      <td>car</td>\n",
       "      <td>bad</td>\n",
       "    </tr>\n",
       "    <tr>\n",
       "      <th>7</th>\n",
       "      <td>25 - 45</td>\n",
       "      <td>male</td>\n",
       "      <td>highly skilled</td>\n",
       "      <td>rent</td>\n",
       "      <td>little</td>\n",
       "      <td>moderate</td>\n",
       "      <td>6948</td>\n",
       "      <td>36</td>\n",
       "      <td>car</td>\n",
       "      <td>good</td>\n",
       "    </tr>\n",
       "    <tr>\n",
       "      <th>9</th>\n",
       "      <td>25 - 45</td>\n",
       "      <td>male</td>\n",
       "      <td>highly skilled</td>\n",
       "      <td>own</td>\n",
       "      <td>little</td>\n",
       "      <td>moderate</td>\n",
       "      <td>5234</td>\n",
       "      <td>30</td>\n",
       "      <td>car</td>\n",
       "      <td>bad</td>\n",
       "    </tr>\n",
       "  </tbody>\n",
       "</table>\n",
       "</div>"
      ],
      "text/plain": [
       "               Age     Sex             Job Housing Saving accounts   \n",
       "1     Less than 25  female         skilled     own          little  \\\n",
       "3          25 - 45    male         skilled    free          little   \n",
       "4  Greater than 45    male         skilled    free          little   \n",
       "7          25 - 45    male  highly skilled    rent          little   \n",
       "9          25 - 45    male  highly skilled     own          little   \n",
       "\n",
       "  Checking account  Credit amount  Duration              Purpose  Risk  \n",
       "1         moderate           5951        48             radio/TV   bad  \n",
       "3           little           7882        42  furniture/equipment  good  \n",
       "4           little           4870        24                  car   bad  \n",
       "7         moderate           6948        36                  car  good  \n",
       "9         moderate           5234        30                  car   bad  "
      ]
     },
     "execution_count": 31,
     "metadata": {},
     "output_type": "execute_result"
    }
   ],
   "source": [
    "# Recover the \"job\" column from numeric to categorical\n",
    "job_mapping = {\n",
    "    0: \"unskilled and non-resident\",\n",
    "    1: \"unskilled and resident\",\n",
    "    2: \"skilled\",\n",
    "    3: \"highly skilled\"\n",
    "}\n",
    "\n",
    "df['Job'] = df['Job'].map(job_mapping)\n",
    "\n",
    "# Convert the \"age\" attribute from numeric to categorical\n",
    "bins = [0, 24, 45, float('inf')]\n",
    "labels = [\"Less than 25\", \"25 - 45\", \"Greater than 45\"]\n",
    "\n",
    "df['Age'] = pd.cut(df['Age'], bins=bins, labels=labels, right=True, include_lowest=True)\n",
    "df.head()"
   ]
  },
  {
   "cell_type": "code",
   "execution_count": 32,
   "metadata": {},
   "outputs": [
    {
     "data": {
      "text/plain": [
       "((417, 9), (105, 9), (417,), (105,))"
      ]
     },
     "execution_count": 32,
     "metadata": {},
     "output_type": "execute_result"
    }
   ],
   "source": [
    "from sklearn.model_selection import train_test_split\n",
    "\n",
    "# Splitting data into features (X) and target (y)\n",
    "X = df.drop(columns=['Risk'])\n",
    "y = df['Risk']\n",
    "\n",
    "# Split the data into train and validation sets (80:20)\n",
    "train_x, val_x, train_y, val_y = train_test_split(X, y, test_size=0.2, random_state=42)\n",
    "\n",
    "train_x.shape, val_x.shape, train_y.shape, val_y.shape"
   ]
  },
  {
   "cell_type": "code",
   "execution_count": 33,
   "metadata": {},
   "outputs": [
    {
     "name": "stdout",
     "output_type": "stream",
     "text": [
      "{'Age': 'Age', 'Sex': 'Gender'}\n",
      "dict_keys(['Age', 'Sex'])\n"
     ]
    }
   ],
   "source": [
    "# Detect sensitive attributes\n",
    "sensitive_attributes = fl.sensitive.detect_names_df(df, deep_search=True)\n",
    "print(sensitive_attributes)\n",
    "print(sensitive_attributes.keys())"
   ]
  },
  {
   "cell_type": "code",
   "execution_count": 34,
   "metadata": {},
   "outputs": [],
   "source": [
    "names_of_categorical_columns = ['Age',\n",
    "                                'Sex',\n",
    "                                'Job',\n",
    "                                'Housing',\n",
    "                                'Saving accounts',\n",
    "                                'Checking account',\n",
    "                                'Purpose']\n",
    "\n",
    "header_description =\"Predict the credit risk of a German bank customer based on their profile data.\"\n",
    "nl_instruction = \"Given the features of a bank customer, such as age, job type, and housing situation, predict whether the customer is a good or bad credit risk.\""
   ]
  },
  {
   "cell_type": "code",
   "execution_count": null,
   "metadata": {},
   "outputs": [],
   "source": [
    "from Tablet import create\n",
    "\n",
    "create.create_task(train_x,\n",
    "                   val_x,\n",
    "                   train_y,\n",
    "                   val_y,\n",
    "                   name=\"GermanCredit\",\n",
    "                   header=header_description,\n",
    "                   nl_instruction=nl_instruction,\n",
    "                   categorical_columns=names_of_categorical_columns,\n",
    "                   num=0,\n",
    "                   num_gpt3_revisions=10,\n",
    "                   openai_key_path=\"./openai_key.txt\",\n",
    "                   save_loc=\"../data/benchmark\"\n",
    "                   )"
   ]
  }
 ],
 "metadata": {
  "kernelspec": {
   "display_name": "tablet",
   "language": "python",
   "name": "python3"
  },
  "language_info": {
   "codemirror_mode": {
    "name": "ipython",
    "version": 3
   },
   "file_extension": ".py",
   "mimetype": "text/x-python",
   "name": "python",
   "nbconvert_exporter": "python",
   "pygments_lexer": "ipython3",
   "version": "3.9.6"
  },
  "orig_nbformat": 4
 },
 "nbformat": 4,
 "nbformat_minor": 2
}
